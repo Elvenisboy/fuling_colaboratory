{
  "nbformat": 4,
  "nbformat_minor": 0,
  "metadata": {
    "colab": {
      "name": "AlexNet猫狗大战.ipynb",
      "version": "0.3.2",
      "provenance": [],
      "collapsed_sections": [],
      "include_colab_link": true
    },
    "kernelspec": {
      "name": "python3",
      "display_name": "Python 3"
    },
    "accelerator": "TPU"
  },
  "cells": [
    {
      "cell_type": "markdown",
      "metadata": {
        "id": "view-in-github",
        "colab_type": "text"
      },
      "source": [
        "<a href=\"https://colab.research.google.com/github/Elvenisboy/fuling_colaboratory/blob/master/%E7%8C%AB%E7%8B%97%E5%A4%A7%E6%88%98AlexNet.ipynb\" target=\"_parent\"><img src=\"https://colab.research.google.com/assets/colab-badge.svg\" alt=\"Open In Colab\"/></a>"
      ]
    },
    {
      "metadata": {
        "id": "_VlsPPp2NRYc",
        "colab_type": "code",
        "colab": {}
      },
      "cell_type": "code",
      "source": [
        "!apt-get install -y -qq software-properties-common python-software-properties module-init-tools\n",
        "!add-apt-repository -y ppa:alessandro-strada/ppa 2>&1 > /dev/null\n",
        "!apt-get update -qq 2>&1 > /dev/null\n",
        "!apt-get -y install -qq google-drive-ocamlfuse fuse\n",
        "\n",
        "from google.colab import auth\n",
        "auth.authenticate_user()\n",
        "from oauth2client.client import GoogleCredentials\n",
        "creds = GoogleCredentials.get_application_default()\n",
        "import getpass\n",
        "!google-drive-ocamlfuse -headless -id={creds.client_id} -secret={creds.client_secret} < /dev/null 2>&1 | grep URL\n",
        "vcode = getpass.getpass()\n",
        "!echo {vcode} | google-drive-ocamlfuse -headless -id={creds.client_id} -secret={creds.client_secret}\n",
        "\n",
        "!mkdir -p drive\n",
        "!google-drive-ocamlfuse drive"
      ],
      "execution_count": 0,
      "outputs": []
    },
    {
      "metadata": {
        "id": "RQPVpFZxNa5k",
        "colab_type": "code",
        "colab": {}
      },
      "cell_type": "code",
      "source": [
        "!cp /content/drive/colab-drive/cats-vs-dogs/dogs-vs-cats.zip ./\n",
        "!unzip ./dogs-vs-cats.zip\n",
        "# !unzip ./test1.zip\n",
        "!unzip ./train.zip"
      ],
      "execution_count": 0,
      "outputs": []
    },
    {
      "metadata": {
        "id": "o-_tQTZcPQlC",
        "colab_type": "code",
        "colab": {}
      },
      "cell_type": "code",
      "source": [
        "import os, shutil, glob\n",
        "\n",
        "import cv2\n",
        "import numpy as np\n",
        "\n",
        "import keras\n",
        "from keras.optimizers import SGD\n",
        "from keras.preprocessing.image import ImageDataGenerator\n",
        "from keras.models import Sequential\n",
        "from keras.layers import Dense, Dropout, Activation, Flatten\n",
        "from keras.layers import Convolution2D, MaxPooling2D, BatchNormalization\n",
        "from keras.preprocessing import image\n",
        "from keras.applications.imagenet_utils import preprocess_input, decode_predictions\n"
      ],
      "execution_count": 0,
      "outputs": []
    },
    {
      "metadata": {
        "id": "lPuvs8n2QWwm",
        "colab_type": "code",
        "colab": {}
      },
      "cell_type": "code",
      "source": [
        "def load_data():\n",
        "  images = os.listdir(train)\n",
        "  num = len(images)\n",
        "  train_data = []\n",
        "  train_label = []\n",
        "  test_data = []\n",
        "  test_label = []\n",
        "  \n",
        "  for i in range(5000):\n",
        "    if i % 2:\n",
        "      img = image.load_img('./train/' + 'dog.' + str(i) + '.jpg', target_size=(224, 224))\n",
        "      x = image.img_to_array(img)\n",
        "      train_data.append(x)\n",
        "      train_label.append(1)\n",
        "    else:\n",
        "      img = image.load_img('./train/' + 'cat.' + str(i) + '.jpg', target_size=(224, 224))\n",
        "      x = image.img_to_array(img)\n",
        "      train_data.append(x)\n",
        "      train_label.append(0)\n",
        "  for i in range(5000, 10000):\n",
        "    if i % 2:\n",
        "      img = image.load_img('./train/' + 'dog.' + str(i) + '.jpg', target_size=(224, 224))\n",
        "      x = image.img_to_array(img)\n",
        "      test_data.append(x)                                        \n",
        "      test_label.append(1)\n",
        "    else:\n",
        "      img = image.load_img('./train/' + 'cat.' + str(i) + '.jpg', target_size=(224, 224))\n",
        "      x = image.img_to_array(img)\n",
        "      test_data.append(x)\n",
        "      test_data.append(0)\n",
        "  return train_data, train_label, test_data, test_label        "
      ],
      "execution_count": 0,
      "outputs": []
    },
    {
      "metadata": {
        "id": "xDzt8XiURbpk",
        "colab_type": "code",
        "colab": {}
      },
      "cell_type": "code",
      "source": [
        "train_data, train_label, test_data, test_label = load_data()\n",
        "train_data, test_data = np.array(train_data), np.array(test_data)\n",
        "# train_data, test_data = train_data/255, test_data/255\n"
      ],
      "execution_count": 0,
      "outputs": []
    },
    {
      "metadata": {
        "id": "1q7mgf0lVvF8",
        "colab_type": "code",
        "outputId": "0b4fb62f-2305-4693-c5c8-04b6d706255c",
        "colab": {
          "base_uri": "https://localhost:8080/"
        }
      },
      "cell_type": "code",
      "source": [
        "import matplotlib.pyplot as plt\n",
        "\n",
        "img = train_data[0]\n",
        "# print(img)\n",
        "plt.imshow(img)\n",
        "plt.axis(\"off\")\n",
        "plt.show()\n",
        "img = cv2.cvtColor(img, cv2.COLOR_BGR2RGB)\n",
        "plt.imshow(img)\n",
        "plt.axis(\"off\")\n",
        "plt.show()\n"
      ],
      "execution_count": 0,
      "outputs": [
        {
          "output_type": "stream",
          "text": [
            "Clipping input data to the valid range for imshow with RGB data ([0..1] for floats or [0..255] for integers).\n"
          ],
          "name": "stderr"
        },
        {
          "output_type": "display_data",
          "data": {
            "image/png": "[encoded data removed]",
            "text/plain": [
              "<Figure size 576x396 with 1 Axes>"
            ]
          },
          "metadata": {
            "tags": []
          }
        },
        {
          "output_type": "stream",
          "text": [
            "Clipping input data to the valid range for imshow with RGB data ([0..1] for floats or [0..255] for integers).\n"
          ],
          "name": "stderr"
        },
        {
          "output_type": "display_data",
          "data": {
            "image/png": "[encoded data removed]",
            "text/plain": [
              "<Figure size 576x396 with 1 Axes>"
            ]
          },
          "metadata": {
            "tags": []
          }
        }
      ]
    },
    {
      "metadata": {
        "id": "HpFTr5Zxaif0",
        "colab_type": "code",
        "colab": {}
      },
      "cell_type": "code",
      "source": [
        "# keras.utils.to_categorical(y, num_classes=None, dtype='float32')\n",
        "# num_classes: 总类别数。\n",
        "train_label = keras.utils.to_categorical(train_label, 2)\n",
        "test_label = keras.utils.to_categorical(test_label, 2)\n"
      ],
      "execution_count": 0,
      "outputs": []
    },
    {
      "metadata": {
        "id": "njBGO-7ga-PR",
        "colab_type": "code",
        "colab": {}
      },
      "cell_type": "code",
      "source": [
        "# AlexNet\n",
        "model = Sequential()\n",
        "#第一段\n",
        "model.add(Convolution2D(filters=96, kernel_size=(11,11),\n",
        "                 strides=(4,4), padding='valid',\n",
        "                 input_shape=(resize,resize,3),\n",
        "                 activation='relu'))\n",
        "model.add(BatchNormalization())\n",
        "model.add(MaxPooling2D(pool_size=(3,3), \n",
        "                       strides=(2,2), \n",
        "                       padding='valid'))\n",
        "#第二段\n",
        "model.add(Convolution2D(filters=256, kernel_size=(5,5), \n",
        "                 strides=(1,1), padding='same', \n",
        "                 activation='relu'))\n",
        "model.add(BatchNormalization())\n",
        "model.add(MaxPooling2D(pool_size=(3,3), \n",
        "                       strides=(2,2), \n",
        "                       padding='valid'))\n",
        "#第三段\n",
        "model.add(Convolution2D(filters=384, kernel_size=(3,3), \n",
        "                 strides=(1,1), padding='same', \n",
        "                 activation='relu'))\n",
        "model.add(Convolution2D(filters=384, kernel_size=(3,3), \n",
        "                 strides=(1,1), padding='same', \n",
        "                 activation='relu'))\n",
        "model.add(Convolution2D(filters=256, kernel_size=(3,3), \n",
        "                 strides=(1,1), padding='same', \n",
        "                 activation='relu'))\n",
        "model.add(MaxPooling2D(pool_size=(3,3), \n",
        "                       strides=(2,2), padding='valid'))\n",
        "#第四段\n",
        "model.add(Flatten())\n",
        "model.add(Dense(4096, activation='relu'))\n",
        "model.add(Dropout(0.5))\n",
        "\n",
        "model.add(Dense(4096, activation='relu'))\n",
        "model.add(Dropout(0.5))\n",
        "\n",
        "model.add(Dense(1000, activation='relu'))\n",
        "model.add(Dropout(0.5))\n",
        "\n",
        "# Output Layer\n",
        "model.add(Dense(2))\n",
        "model.add(Activation('softmax'))\n",
        "\n",
        "model.compile(loss='categorical_crossentropy',\n",
        "              optimizer='sgd',\n",
        "              metrics=['accuracy'])"
      ],
      "execution_count": 0,
      "outputs": []
    },
    {
      "metadata": {
        "id": "U9yAqLkWeNET",
        "colab_type": "code",
        "colab": {}
      },
      "cell_type": "code",
      "source": [
        "!mkdir output\n"
      ],
      "execution_count": 0,
      "outputs": []
    },
    {
      "metadata": {
        "id": "W8h9BMmddN_w",
        "colab_type": "code",
        "outputId": "921234d5-60fa-4abe-f65b-03d6f935d9f4",
        "colab": {
          "base_uri": "https://localhost:8080/",
          "height": 71
        }
      },
      "cell_type": "code",
      "source": [
        "model.fit(train_data, train_label,\n",
        "          batch_size = 64,\n",
        "          epochs = 50,\n",
        "          validation_split = 0.2,\n",
        "          shuffle = True)\n",
        "\n",
        "# model.save('./outputs/cat_vs_dogs.h5')\n",
        "# model.save('/content/drive/colab-drive/cats-vs-dogs/cat_vs_dogs_alex.h5')"
      ],
      "execution_count": 0,
      "outputs": [
        {
          "output_type": "stream",
          "text": [
            "Train on 4000 samples, validate on 1000 samples\n",
            "Epoch 1/50\n",
            "2112/4000 [==============>...............] - ETA: 5:00 - loss: 0.9173 - acc: 0.5133"
          ],
          "name": "stdout"
        }
      ]
    },
    {
      "metadata": {
        "id": "benBSCo5lpDx",
        "colab_type": "code",
        "colab": {}
      },
      "cell_type": "code",
      "source": [
        "model.save('/content/drive/colab-drive/cats-vs-dogs/cat_vs_dogs_alex_最终版.h5')\n",
        "model.save('cat_vs_dogs.h5')"
      ],
      "execution_count": 0,
      "outputs": []
    },
    {
      "metadata": {
        "id": "SN2vrzqWpRMm",
        "colab_type": "code",
        "colab": {}
      },
      "cell_type": "code",
      "source": [
        "scores = model.evaluate(train_data, train_label, verbose=1)\n",
        "print(scores)"
      ],
      "execution_count": 0,
      "outputs": []
    },
    {
      "metadata": {
        "id": "-Di8925_1GJE",
        "colab_type": "code",
        "colab": {}
      },
      "cell_type": "code",
      "source": [
        "scores = model.evaluate(test_data, test_label, verbose=1)\n",
        "print(scores)"
      ],
      "execution_count": 0,
      "outputs": []
    },
    {
      "metadata": {
        "id": "IBI1tluK189B",
        "colab_type": "code",
        "colab": {}
      },
      "cell_type": "code",
      "source": [
        "from keras.preprocessing import image\n",
        "from keras.applications.imagenet_utils import preprocess_input, decode_predictions\n",
        "\n",
        "\n",
        "for i in range(100):\n",
        "  if i % 2:\n",
        "      img_path = './train/' + 'dog.' + str(i) + '.jpg'\n",
        "  else:\n",
        "      img_path = './train/' + 'cat.' + str(i) + '.jpg'\n",
        "      \n",
        "  img = image.load_img(img_path, target_size=(224, 224))\n",
        "  x = image.img_to_array(img)\n",
        "  x = np.expand_dims(x, axis=0)\n",
        "  prediction = model.predict(x)\n",
        "  print(prediction)\n",
        "  print(np.argmax(prediction))\n",
        "  print(100*np.max(prediction))\n",
        "\n"
      ],
      "execution_count": 0,
      "outputs": []
    },
    {
      "metadata": {
        "id": "bElTlt-IqBe5",
        "colab_type": "code",
        "colab": {}
      },
      "cell_type": "code",
      "source": [
        "# 猫是0， 狗是1"
      ],
      "execution_count": 0,
      "outputs": []
    }
  ]
}